{
 "cells": [
  {
   "cell_type": "code",
   "execution_count": 1,
   "id": "a4378532-d824-4630-989b-b8895f97c172",
   "metadata": {},
   "outputs": [],
   "source": [
    "import openai"
   ]
  },
  {
   "cell_type": "code",
   "execution_count": 2,
   "id": "279b1973-1347-43a2-8f22-b4bccdba2582",
   "metadata": {},
   "outputs": [],
   "source": [
    "from openai import OpenAI"
   ]
  },
  {
   "cell_type": "code",
   "execution_count": null,
   "id": "44b896d9-db4f-48b0-9620-b87f9455827b",
   "metadata": {},
   "outputs": [],
   "source": [
    "client=OpenAI(api_key='your_api_key_here')"
   ]
  },
  {
   "cell_type": "code",
   "execution_count": null,
   "id": "f3339c08-a4fd-4057-b31f-c7b7a8f91176",
   "metadata": {},
   "outputs": [],
   "source": [
    "response = client.chat.completions.create(\n",
    "    model ='gpt-4o',\n",
    "    messages = [{\"role\":\"user\", \"content\": \"Is it too late to join the course?\"}],\n",
    "\n",
    ")"
   ]
  },
  {
   "cell_type": "code",
   "execution_count": null,
   "id": "01935cbb-e80d-470c-9f1f-fa9a4df56989",
   "metadata": {},
   "outputs": [],
   "source": [
    "response.choices[0].message.content"
   ]
  }
 ],
 "metadata": {
  "kernelspec": {
   "display_name": "Python 3 (ipykernel)",
   "language": "python",
   "name": "python3"
  },
  "language_info": {
   "codemirror_mode": {
    "name": "ipython",
    "version": 3
   },
   "file_extension": ".py",
   "mimetype": "text/x-python",
   "name": "python",
   "nbconvert_exporter": "python",
   "pygments_lexer": "ipython3",
   "version": "3.12.1"
  }
 },
 "nbformat": 4,
 "nbformat_minor": 5
}
